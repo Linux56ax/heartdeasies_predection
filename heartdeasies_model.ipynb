{
 "cells": [
  {
   "cell_type": "code",
   "execution_count": null,
   "id": "e733f057",
   "metadata": {
    "vscode": {
     "languageId": "plaintext"
    }
   },
   "outputs": [],
   "source": [
    "import pandas as pd\n",
    "import numpy as np\n",
    "import joblib\n",
    "import matplotlib.pyplot as plt\n",
    "from sklearn.model_selection import train_test_split\n",
    "from sklearn.impute import SimpleImputer\n",
    "from sklearn.preprocessing import StandardScaler\n",
    "from sklearn.compose import ColumnTransformer\n",
    "from sklearn.pipeline import Pipeline\n",
    "from sklearn.ensemble import RandomForestClassifier\n",
    "from sklearn.metrics import (\n",
    "    accuracy_score, precision_score, recall_score,\n",
    "    f1_score, roc_auc_score, confusion_matrix\n",
    ")"
   ]
  },
  {
   "cell_type": "code",
   "execution_count": null,
   "id": "b5eebd6c",
   "metadata": {
    "vscode": {
     "languageId": "plaintext"
    }
   },
   "outputs": [],
   "source": [
    "#load dataset\n",
    "data_path = \"dataset.csv\"   # Change if needed\n",
    "df = pd.read_csv(data_path)\n",
    "print(\"Dataset loaded:\", df.shape)\n",
    "print(df.head())"
   ]
  },
  {
   "cell_type": "code",
   "execution_count": null,
   "id": "0b2ee37f",
   "metadata": {
    "vscode": {
     "languageId": "julia"
    }
   },
   "outputs": [],
   "source": [
    "#data cleaning and preprocessing\n",
    "df.columns = [c.strip().lower().replace(\" \", \"_\").replace(\"-\", \"_\") for c in df.columns]\n",
    "\n",
    "#map column names to consistent ones\n",
    "rename_map = {\n",
    "    \"chest_pain_type\": \"chest_pain_type\",\n",
    "    \"resting_bp_s\": \"resting_bp_s\",\n",
    "    \"cholesterol\": \"cholesterol\",\n",
    "    \"fasting_blood_sugar\": \"fasting_blood_sugar\",\n",
    "    \"resting_ecg\": \"resting_ecg\",\n",
    "    \"max_heart_rate\": \"max_heart_rate\",\n",
    "    \"exercise_angina\": \"exercise_angina\",\n",
    "    \"oldpeak\": \"oldpeak\",\n",
    "    \"st_slope\": \"st_slope\",\n",
    "    \"target\": \"target\",\n",
    "}\n",
    "df = df.rename(columns=rename_map)\n",
    "\n",
    "#indentify numeric and categorical columns\n",
    "numeric_cols = [\"age\", \"resting_bp_s\", \"cholesterol\", \"max_heart_rate\", \"oldpeak\"]\n",
    "categorical_cols = [\"sex\", \"chest_pain_type\", \"fasting_blood_sugar\",\n",
    "                    \"resting_ecg\", \"exercise_angina\", \"st_slope\"]\n",
    "\n",
    "#handle missing values\n",
    "num_imputer = SimpleImputer(strategy=\"median\")\n",
    "cat_imputer = SimpleImputer(strategy=\"most_frequent\")\n",
    "\n",
    "df[numeric_cols] = num_imputer.fit_transform(df[numeric_cols])\n",
    "df[categorical_cols] = cat_imputer.fit_transform(df[categorical_cols])\n",
    "\n",
    "#dataset spliting \n",
    "X = df.drop(columns=[\"target\"])\n",
    "y = df[\"target\"].astype(int)\n",
    "\n",
    "X_train, X_test, y_train, y_test = train_test_split(\n",
    "    X, y, stratify=y, test_size=0.2, random_state=42\n",
    ")\n",
    "print(\"\\nTrain shape:\", X_train.shape, \"Test shape:\", X_test.shape)\n",
    "\n",
    "#pre processing pipeline\n",
    "numeric_transformer = Pipeline([\n",
    "    (\"imputer\", SimpleImputer(strategy=\"median\")),\n",
    "    (\"scaler\", StandardScaler())\n",
    "])\n",
    "\n",
    "preprocessor = ColumnTransformer([\n",
    "    (\"num\", numeric_transformer, numeric_cols)\n",
    "], remainder='passthrough')\n",
    "\n",
    "#model tarining and evaluation\n",
    "model= RandomForestClassifier(n_estimators=200, class_weight='balanced', random_state=42)\n",
    "\n",
    "results = {}\n",
    "best_model = None\n",
    "best_f1 = 0\n",
    "\n",
    "#pipeline\n",
    "pipe = Pipeline([\n",
    "    (\"pre\", preprocessor),\n",
    "    (\"clf\", model)\n",
    "])\n",
    "\n",
    "#train\n",
    "pipe.fit(X_train, y_train)\n",
    "\n",
    "#predict\n",
    "y_pred = pipe.predict(X_test)\n",
    "y_proba = pipe.predict_proba(X_test)[:, 1]\n",
    "\n",
    "#evaluate\n",
    "acc = accuracy_score(y_test, y_pred)\n",
    "prec = precision_score(y_test, y_pred)\n",
    "rec = recall_score(y_test, y_pred)\n",
    "f1 = f1_score(y_test, y_pred)\n",
    "roc = roc_auc_score(y_test, y_proba)\n",
    "\n",
    "print(\"\\nRandomForest Results\")\n",
    "print(f\"Accuracy={acc:.3f}  Precision={prec:.3f}  Recall={rec:.3f}  F1={f1:.3f}  ROC_AUC={roc:.3f}\")\n",
    "\n",
    "#save the trained model\n",
    "joblib.dump(pipe, \"heartdeasies_predict.joblib\")\n",
    "print(\"\\nModel saved as heartdeasies_predict.joblib\")\n",
    "\n",
    "#confusion matrix\n",
    "cm = confusion_matrix(y_test, y_pred)\n",
    "plt.figure(figsize=(5, 4))\n",
    "plt.imshow(cm, interpolation='nearest', cmap='Blues')\n",
    "plt.title(\"Confusion Matrix - RandomForest\")\n",
    "plt.xlabel(\"Predicted\")\n",
    "plt.ylabel(\"Actual\")\n",
    "for (i, j), val in np.ndenumerate(cm):\n",
    "    plt.text(j, i, int(val), ha=\"center\", va=\"center\")\n",
    "plt.colorbar()\n",
    "plt.tight_layout()\n",
    "plt.show()\n",
    "\n",
    "\n"
   ]
  }
 ],
 "metadata": {
  "language_info": {
   "name": "python"
  }
 },
 "nbformat": 4,
 "nbformat_minor": 5
}
